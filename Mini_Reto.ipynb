{
  "nbformat": 4,
  "nbformat_minor": 0,
  "metadata": {
    "colab": {
      "provenance": [],
      "authorship_tag": "ABX9TyNDngjUrpNsRic4ilXwyZMS",
      "include_colab_link": true
    },
    "kernelspec": {
      "name": "python3",
      "display_name": "Python 3"
    },
    "language_info": {
      "name": "python"
    }
  },
  "cells": [
    {
      "cell_type": "markdown",
      "metadata": {
        "id": "view-in-github",
        "colab_type": "text"
      },
      "source": [
        "<a href=\"https://colab.research.google.com/github/eliasyanez/TC1001S.100-202211/blob/main/Mini_Reto.ipynb\" target=\"_parent\"><img src=\"https://colab.research.google.com/assets/colab-badge.svg\" alt=\"Open In Colab\"/></a>"
      ]
    },
    {
      "cell_type": "markdown",
      "source": [
        "1. Configuración Inicial y Librerías\n"
      ],
      "metadata": {
        "id": "avniiXkvHLZ5"
      }
    },
    {
      "cell_type": "code",
      "execution_count": null,
      "metadata": {
        "colab": {
          "base_uri": "https://localhost:8080/"
        },
        "id": "a_7j5WYChhkW",
        "outputId": "90af2a98-6fa5-461a-f150-39a3e302d7b2"
      },
      "outputs": [
        {
          "output_type": "stream",
          "name": "stdout",
          "text": [
            "Drive already mounted at /content/drive; to attempt to forcibly remount, call drive.mount(\"/content/drive\", force_remount=True).\n",
            "Requirement already satisfied: librosa in /usr/local/lib/python3.10/dist-packages (0.10.2.post1)\n",
            "Requirement already satisfied: pandas in /usr/local/lib/python3.10/dist-packages (2.1.4)\n",
            "Requirement already satisfied: pydub in /usr/local/lib/python3.10/dist-packages (0.25.1)\n",
            "Requirement already satisfied: audioread>=2.1.9 in /usr/local/lib/python3.10/dist-packages (from librosa) (3.0.1)\n",
            "Requirement already satisfied: numpy!=1.22.0,!=1.22.1,!=1.22.2,>=1.20.3 in /usr/local/lib/python3.10/dist-packages (from librosa) (1.26.4)\n",
            "Requirement already satisfied: scipy>=1.2.0 in /usr/local/lib/python3.10/dist-packages (from librosa) (1.13.1)\n",
            "Requirement already satisfied: scikit-learn>=0.20.0 in /usr/local/lib/python3.10/dist-packages (from librosa) (1.3.2)\n",
            "Requirement already satisfied: joblib>=0.14 in /usr/local/lib/python3.10/dist-packages (from librosa) (1.4.2)\n",
            "Requirement already satisfied: decorator>=4.3.0 in /usr/local/lib/python3.10/dist-packages (from librosa) (4.4.2)\n",
            "Requirement already satisfied: numba>=0.51.0 in /usr/local/lib/python3.10/dist-packages (from librosa) (0.60.0)\n",
            "Requirement already satisfied: soundfile>=0.12.1 in /usr/local/lib/python3.10/dist-packages (from librosa) (0.12.1)\n",
            "Requirement already satisfied: pooch>=1.1 in /usr/local/lib/python3.10/dist-packages (from librosa) (1.8.2)\n",
            "Requirement already satisfied: soxr>=0.3.2 in /usr/local/lib/python3.10/dist-packages (from librosa) (0.5.0)\n",
            "Requirement already satisfied: typing-extensions>=4.1.1 in /usr/local/lib/python3.10/dist-packages (from librosa) (4.12.2)\n",
            "Requirement already satisfied: lazy-loader>=0.1 in /usr/local/lib/python3.10/dist-packages (from librosa) (0.4)\n",
            "Requirement already satisfied: msgpack>=1.0 in /usr/local/lib/python3.10/dist-packages (from librosa) (1.0.8)\n",
            "Requirement already satisfied: python-dateutil>=2.8.2 in /usr/local/lib/python3.10/dist-packages (from pandas) (2.8.2)\n",
            "Requirement already satisfied: pytz>=2020.1 in /usr/local/lib/python3.10/dist-packages (from pandas) (2024.1)\n",
            "Requirement already satisfied: tzdata>=2022.1 in /usr/local/lib/python3.10/dist-packages (from pandas) (2024.1)\n",
            "Requirement already satisfied: packaging in /usr/local/lib/python3.10/dist-packages (from lazy-loader>=0.1->librosa) (24.1)\n",
            "Requirement already satisfied: llvmlite<0.44,>=0.43.0dev0 in /usr/local/lib/python3.10/dist-packages (from numba>=0.51.0->librosa) (0.43.0)\n",
            "Requirement already satisfied: platformdirs>=2.5.0 in /usr/local/lib/python3.10/dist-packages (from pooch>=1.1->librosa) (4.2.2)\n",
            "Requirement already satisfied: requests>=2.19.0 in /usr/local/lib/python3.10/dist-packages (from pooch>=1.1->librosa) (2.32.3)\n",
            "Requirement already satisfied: six>=1.5 in /usr/local/lib/python3.10/dist-packages (from python-dateutil>=2.8.2->pandas) (1.16.0)\n",
            "Requirement already satisfied: threadpoolctl>=2.0.0 in /usr/local/lib/python3.10/dist-packages (from scikit-learn>=0.20.0->librosa) (3.5.0)\n",
            "Requirement already satisfied: cffi>=1.0 in /usr/local/lib/python3.10/dist-packages (from soundfile>=0.12.1->librosa) (1.17.0)\n",
            "Requirement already satisfied: pycparser in /usr/local/lib/python3.10/dist-packages (from cffi>=1.0->soundfile>=0.12.1->librosa) (2.22)\n",
            "Requirement already satisfied: charset-normalizer<4,>=2 in /usr/local/lib/python3.10/dist-packages (from requests>=2.19.0->pooch>=1.1->librosa) (3.3.2)\n",
            "Requirement already satisfied: idna<4,>=2.5 in /usr/local/lib/python3.10/dist-packages (from requests>=2.19.0->pooch>=1.1->librosa) (3.8)\n",
            "Requirement already satisfied: urllib3<3,>=1.21.1 in /usr/local/lib/python3.10/dist-packages (from requests>=2.19.0->pooch>=1.1->librosa) (2.0.7)\n",
            "Requirement already satisfied: certifi>=2017.4.17 in /usr/local/lib/python3.10/dist-packages (from requests>=2.19.0->pooch>=1.1->librosa) (2024.8.30)\n"
          ]
        }
      ],
      "source": [
        "from google.colab import drive\n",
        "drive.mount('/content/drive')\n",
        "\n",
        "!pip install librosa pandas pydub\n",
        "\n",
        "import os\n",
        "import librosa\n",
        "import numpy as np\n",
        "import pandas as pd\n",
        "from pydub import AudioSegment\n",
        "from sklearn.preprocessing import StandardScaler\n",
        "from sklearn.linear_model import LogisticRegression\n",
        "from sklearn.metrics import accuracy_score, confusion_matrix, classification_report\n",
        "import joblib\n",
        "from sklearn.naive_bayes import GaussianNB"
      ]
    },
    {
      "cell_type": "markdown",
      "source": [
        "2. Conversión de Audios de Entrenamiento de m4a a wav"
      ],
      "metadata": {
        "id": "Scy9SSFbHXVC"
      }
    },
    {
      "cell_type": "code",
      "source": [
        "# Ruta a la carpeta donde están los archivos .m4a\n",
        "audio_dir = '/content/drive/My Drive/ITD/Int Artificial Avanzada/Tareas/Tarea equipo/Train/'"
      ],
      "metadata": {
        "id": "2XDtIunKJqSz"
      },
      "execution_count": null,
      "outputs": []
    },
    {
      "cell_type": "code",
      "source": [
        "# Convertir los archivos a .wav\n",
        "for file_name in os.listdir(audio_dir):\n",
        "    if file_name.endswith('.m4a'):\n",
        "        file_path = os.path.join(audio_dir, file_name)\n",
        "        audio = AudioSegment.from_file(file_path, format=\"m4a\")\n",
        "        wav_file_path = file_path.replace('.m4a', '.wav')\n",
        "        audio.export(wav_file_path, format=\"wav\")"
      ],
      "metadata": {
        "id": "_TPWKA5giy0k"
      },
      "execution_count": null,
      "outputs": []
    },
    {
      "cell_type": "markdown",
      "source": [
        "3. Extracción de Características y Creación del Archivo CSV"
      ],
      "metadata": {
        "id": "Cru2ENq8HiKy"
      }
    },
    {
      "cell_type": "code",
      "source": [
        "def extract_features(file_path, n_mfcc=13):\n",
        "    \"\"\"\n",
        "    Extrae MFCCs de un archivo de audio.\n",
        "\n",
        "    :param file_path: Ruta al archivo de audio\n",
        "    :param n_mfcc: Número de coeficientes MFCC a extraer\n",
        "    :return: Vector de características MFCCs\n",
        "    \"\"\"\n",
        "    try:\n",
        "        audio, sample_rate = librosa.load(file_path, sr=None)\n",
        "        mfccs = librosa.feature.mfcc(y=audio, sr=sample_rate, n_mfcc=n_mfcc)\n",
        "        mfccs_mean = np.mean(mfccs.T, axis=0)  # Promedio de los MFCCs a través del tiempo\n",
        "        return mfccs_mean\n",
        "    except Exception as e:\n",
        "        print(f\"Error al procesar {file_path}: {e}\")\n",
        "        return None"
      ],
      "metadata": {
        "id": "row5dWgkKNVE"
      },
      "execution_count": null,
      "outputs": []
    },
    {
      "cell_type": "code",
      "source": [
        "# Inicializar listas para almacenar las características y etiquetas\n",
        "features = []\n",
        "labels = []\n",
        "\n",
        "# Procesar los audios en la carpeta\n",
        "for file_name in os.listdir(audio_dir):\n",
        "    if file_name.endswith('.wav'):\n",
        "        file_path = os.path.join(audio_dir, file_name)\n",
        "        mfccs = extract_features(file_path)\n",
        "        if mfccs is not None:\n",
        "            features.append(mfccs)\n",
        "            # Etiquetar según el nombre del archivo\n",
        "            if \"Sobrio\" in file_name:\n",
        "                labels.append(0)  # Sobrio\n",
        "            elif \"Ebrio\" in file_name:\n",
        "                labels.append(1)  # Ebrio\n",
        "\n",
        "# Convertir a DataFrame para un manejo más sencillo\n",
        "df = pd.DataFrame(features)\n",
        "df['label'] = labels\n",
        "\n",
        "# Guardar las características y etiquetas en un archivo CSV para uso posterior\n",
        "df.to_csv('/content/drive/My Drive/ITD/Int Artificial Avanzada/Tareas/Tarea equipo/Train/audio_features_labels.csv', index=False)"
      ],
      "metadata": {
        "id": "uVji4wFgjgEh"
      },
      "execution_count": null,
      "outputs": []
    },
    {
      "cell_type": "markdown",
      "source": [
        "4. Entrenamiento del Modelo de Regresión Logística\n"
      ],
      "metadata": {
        "id": "xnhjBba7Ht6Z"
      }
    },
    {
      "cell_type": "code",
      "source": [
        "# Cargar los datos desde el archivo CSV\n",
        "data = pd.read_csv('/content/drive/My Drive/ITD/Int Artificial Avanzada/Tareas/Tarea equipo/Train/audio_features_labels.csv')\n",
        "\n",
        "# Separar las características (X) y las etiquetas (y)\n",
        "X = data.iloc[:, :-1]  # Todas las columnas excepto la última\n",
        "y = data['label']  # Última columna es la etiqueta\n",
        "\n",
        "# Estandarizar las características (normalizar)\n",
        "scaler = StandardScaler()\n",
        "X = scaler.fit_transform(X)\n",
        "\n",
        "# Entrenar el modelo de Regresión Logística\n",
        "model = LogisticRegression(random_state=42)\n",
        "model.fit(X, y)\n",
        "\n",
        "# Guardar el modelo y el escalador entrenados\n",
        "joblib.dump(model, 'audio_classifier_model.pkl')\n",
        "joblib.dump(scaler, 'scaler.pkl')\n",
        "\n",
        "print(\"Modelo de regresión logística entrenado y guardado exitosamente.\")"
      ],
      "metadata": {
        "colab": {
          "base_uri": "https://localhost:8080/"
        },
        "id": "7Q838wZmlGFP",
        "outputId": "fabd447e-c119-423c-a620-7fe226b131a9"
      },
      "execution_count": null,
      "outputs": [
        {
          "output_type": "stream",
          "name": "stdout",
          "text": [
            "Modelo de regresión logística entrenado y guardado exitosamente.\n"
          ]
        }
      ]
    },
    {
      "cell_type": "markdown",
      "source": [
        "5. Conversión de Audios de Prueba de m4a a wav\n"
      ],
      "metadata": {
        "id": "sXIk7qfkIsmW"
      }
    },
    {
      "cell_type": "code",
      "source": [
        "# Ruta a la carpeta donde están los archivos de prueba .m4a\n",
        "test_audio_dir = '/content/drive/My Drive/ITD/Int Artificial Avanzada/Tareas/Tarea equipo/Test/'"
      ],
      "metadata": {
        "id": "kif4W0K8J4n7"
      },
      "execution_count": null,
      "outputs": []
    },
    {
      "cell_type": "code",
      "source": [
        "# Convertir los archivos de prueba a .wav\n",
        "for file_name in os.listdir(test_audio_dir):\n",
        "    if file_name.endswith('.m4a'):\n",
        "        file_path = os.path.join(test_audio_dir, file_name)\n",
        "        audio = AudioSegment.from_file(file_path, format=\"m4a\")\n",
        "        wav_file_path = file_path.replace('.m4a', '.wav')\n",
        "        audio.export(wav_file_path, format=\"wav\")"
      ],
      "metadata": {
        "id": "tZr6LRD9p8ZQ"
      },
      "execution_count": null,
      "outputs": []
    },
    {
      "cell_type": "markdown",
      "source": [
        "6. Extracción de Características de los Audios de Prueba\n"
      ],
      "metadata": {
        "id": "Ww4-gjOQIwVF"
      }
    },
    {
      "cell_type": "code",
      "source": [
        "# Inicializar listas para almacenar las características y etiquetas de prueba\n",
        "test_features = []\n",
        "test_labels = []\n",
        "\n",
        "# Procesar los audios de prueba\n",
        "for file_name in os.listdir(test_audio_dir):\n",
        "    if file_name.endswith('.wav'):\n",
        "        file_path = os.path.join(test_audio_dir, file_name)\n",
        "        mfccs = extract_features(file_path)\n",
        "        if mfccs is not None:\n",
        "            test_features.append(mfccs)\n",
        "            # Etiquetar según el nombre del archivo\n",
        "            if \"Test sobrio\" in file_name:\n",
        "                test_labels.append(0)  # Sobrio\n",
        "            elif \"Test ebrio\" in file_name:\n",
        "                test_labels.append(1)  # Ebrio\n",
        "\n",
        "# Convertir la lista de características a un array numpy\n",
        "X_test_new = np.array(test_features)\n",
        "y_test_new = np.array(test_labels)\n",
        "\n",
        "# Estandarizar las características\n",
        "X_test_new = scaler.transform(X_test_new)"
      ],
      "metadata": {
        "colab": {
          "base_uri": "https://localhost:8080/"
        },
        "id": "xKsj5aQ_qNpo",
        "outputId": "9d290a44-53d6-457b-bcd9-cbd8d0d4dd42"
      },
      "execution_count": null,
      "outputs": [
        {
          "output_type": "stream",
          "name": "stderr",
          "text": [
            "/usr/local/lib/python3.10/dist-packages/sklearn/base.py:465: UserWarning: X does not have valid feature names, but StandardScaler was fitted with feature names\n",
            "  warnings.warn(\n"
          ]
        }
      ]
    },
    {
      "cell_type": "markdown",
      "source": [
        "7. Evaluación del Modelo de Regresión Logística con Datos de Prueba\n"
      ],
      "metadata": {
        "id": "Pql8-9nAJJIh"
      }
    },
    {
      "cell_type": "code",
      "source": [
        "# Realizar predicciones con el modelo entrenado\n",
        "y_pred_new = model.predict(X_test_new)\n",
        "\n",
        "# Evaluar las predicciones\n",
        "accuracy = accuracy_score(y_test_new, y_pred_new)\n",
        "conf_matrix = confusion_matrix(y_test_new, y_pred_new)\n",
        "class_report = classification_report(y_test_new, y_pred_new)\n",
        "\n",
        "print(f\"Exactitud del modelo en pruebas: {accuracy * 100:.2f}%\")\n",
        "print(\"Matriz de confusión:\")\n",
        "print(conf_matrix)\n",
        "print(\"Informe de clasificación:\")\n",
        "print(class_report)"
      ],
      "metadata": {
        "colab": {
          "base_uri": "https://localhost:8080/"
        },
        "id": "tISSowZ_qYl9",
        "outputId": "2bdf709b-ea48-4e85-93b8-8a838d51aa06"
      },
      "execution_count": null,
      "outputs": [
        {
          "output_type": "stream",
          "name": "stdout",
          "text": [
            "Exactitud del modelo en pruebas: 45.00%\n",
            "Matriz de confusión:\n",
            "[[7 3]\n",
            " [8 2]]\n",
            "Informe de clasificación:\n",
            "              precision    recall  f1-score   support\n",
            "\n",
            "           0       0.47      0.70      0.56        10\n",
            "           1       0.40      0.20      0.27        10\n",
            "\n",
            "    accuracy                           0.45        20\n",
            "   macro avg       0.43      0.45      0.41        20\n",
            "weighted avg       0.43      0.45      0.41        20\n",
            "\n"
          ]
        }
      ]
    },
    {
      "cell_type": "markdown",
      "source": [
        "8. Ajuste del Umbral de Decisión\n"
      ],
      "metadata": {
        "id": "D7uIFAjiJPTm"
      }
    },
    {
      "cell_type": "code",
      "source": [
        "# Obtener las probabilidades de predicción\n",
        "y_pred_proba = model.predict_proba(X_test_new)[:, 1]\n",
        "\n",
        "# Ajustar el umbral (ejemplo: 0.3 en lugar de 0.5)\n",
        "threshold = 0.3\n",
        "y_pred_custom_threshold = (y_pred_proba >= threshold).astype(int)\n",
        "\n",
        "# Evaluar las predicciones con el nuevo umbral\n",
        "accuracy_custom = accuracy_score(y_test_new, y_pred_custom_threshold)\n",
        "conf_matrix_custom = confusion_matrix(y_test_new, y_pred_custom_threshold)\n",
        "class_report_custom = classification_report(y_test_new, y_pred_custom_threshold)\n",
        "\n",
        "print(f\"Exactitud del modelo con umbral ajustado en pruebas: {accuracy_custom * 100:.2f}%\")\n",
        "print(\"Matriz de confusión:\")\n",
        "print(conf_matrix_custom)\n",
        "print(\"Informe de clasificación:\")\n",
        "print(class_report_custom)"
      ],
      "metadata": {
        "colab": {
          "base_uri": "https://localhost:8080/"
        },
        "id": "h8bOpMajrWcQ",
        "outputId": "6b1652eb-9695-4d9c-84ca-d39755f35281"
      },
      "execution_count": null,
      "outputs": [
        {
          "output_type": "stream",
          "name": "stdout",
          "text": [
            "Exactitud del modelo con umbral ajustado en pruebas: 45.00%\n",
            "Matriz de confusión:\n",
            "[[6 4]\n",
            " [7 3]]\n",
            "Informe de clasificación:\n",
            "              precision    recall  f1-score   support\n",
            "\n",
            "           0       0.46      0.60      0.52        10\n",
            "           1       0.43      0.30      0.35        10\n",
            "\n",
            "    accuracy                           0.45        20\n",
            "   macro avg       0.45      0.45      0.44        20\n",
            "weighted avg       0.45      0.45      0.44        20\n",
            "\n"
          ]
        }
      ]
    },
    {
      "cell_type": "markdown",
      "source": [
        "9. Evaluación con Naive Bayes\n"
      ],
      "metadata": {
        "id": "SkqRP2yaJSFy"
      }
    },
    {
      "cell_type": "code",
      "source": [
        "# Crear el modelo de Naive Bayes\n",
        "nb_model = GaussianNB()\n",
        "\n",
        "# Entrenar el modelo con los datos de entrenamiento\n",
        "nb_model.fit(X, y)\n",
        "\n",
        "# Realizar predicciones con los datos de prueba\n",
        "y_pred_nb = nb_model.predict(X_test_new)\n",
        "\n",
        "# Evaluar las predicciones\n",
        "accuracy_nb = accuracy_score(y_test_new, y_pred_nb)\n",
        "conf_matrix_nb = confusion_matrix(y_test_new, y_pred_nb)\n",
        "class_report_nb = classification_report(y_test_new, y_pred_nb)\n",
        "\n",
        "print(f\"Exactitud del modelo Naive Bayes en pruebas: {accuracy_nb * 100:.2f}%\")\n",
        "print(\"Matriz de confusión:\")\n",
        "print(conf_matrix_nb)\n",
        "print(\"Informe de clasificación:\")\n",
        "print(class_report_nb)"
      ],
      "metadata": {
        "colab": {
          "base_uri": "https://localhost:8080/"
        },
        "id": "TPUPkp3Ctjua",
        "outputId": "1aaccbdc-d327-4362-a3fb-c7048484a6d8"
      },
      "execution_count": null,
      "outputs": [
        {
          "output_type": "stream",
          "name": "stdout",
          "text": [
            "Exactitud del modelo Naive Bayes en pruebas: 25.00%\n",
            "Matriz de confusión:\n",
            "[[2 8]\n",
            " [7 3]]\n",
            "Informe de clasificación:\n",
            "              precision    recall  f1-score   support\n",
            "\n",
            "           0       0.22      0.20      0.21        10\n",
            "           1       0.27      0.30      0.29        10\n",
            "\n",
            "    accuracy                           0.25        20\n",
            "   macro avg       0.25      0.25      0.25        20\n",
            "weighted avg       0.25      0.25      0.25        20\n",
            "\n"
          ]
        }
      ]
    },
    {
      "cell_type": "markdown",
      "source": [
        "10. Inversión de Predicciones\n"
      ],
      "metadata": {
        "id": "yJKoAlJAJg3i"
      }
    },
    {
      "cell_type": "code",
      "source": [
        "# Invertir las predicciones del modelo\n",
        "y_pred_inverted = 1 - y_pred_nb  # Cambia 0 a 1 y 1 a 0\n",
        "\n",
        "# Evaluar las predicciones invertidas\n",
        "accuracy_inverted = accuracy_score(y_test_new, y_pred_inverted)\n",
        "conf_matrix_inverted = confusion_matrix(y_test_new, y_pred_inverted)\n",
        "class_report_inverted = classification_report(y_test_new, y_pred_inverted)\n",
        "\n",
        "print(f\"Exactitud del modelo Naive Bayes invertido en pruebas: {accuracy_inverted * 100:.2f}%\")\n",
        "print(\"Matriz de confusión (invertida):\")\n",
        "print(conf_matrix_inverted)\n",
        "print(\"Informe de clasificación (invertido):\")\n",
        "print(class_report_inverted)"
      ],
      "metadata": {
        "colab": {
          "base_uri": "https://localhost:8080/"
        },
        "id": "0WXvDvTCuqqi",
        "outputId": "038983e8-5e8d-4087-9ad0-98e796dc81a0"
      },
      "execution_count": null,
      "outputs": [
        {
          "output_type": "stream",
          "name": "stdout",
          "text": [
            "Exactitud del modelo Naive Bayes invertido en pruebas: 75.00%\n",
            "Matriz de confusión (invertida):\n",
            "[[8 2]\n",
            " [3 7]]\n",
            "Informe de clasificación (invertido):\n",
            "              precision    recall  f1-score   support\n",
            "\n",
            "           0       0.73      0.80      0.76        10\n",
            "           1       0.78      0.70      0.74        10\n",
            "\n",
            "    accuracy                           0.75        20\n",
            "   macro avg       0.75      0.75      0.75        20\n",
            "weighted avg       0.75      0.75      0.75        20\n",
            "\n"
          ]
        }
      ]
    },
    {
      "cell_type": "code",
      "source": [
        "pip install streamlit"
      ],
      "metadata": {
        "colab": {
          "base_uri": "https://localhost:8080/"
        },
        "id": "qgq-AnyYzhje",
        "outputId": "bcc13068-f696-4180-b403-6a61f770701d"
      },
      "execution_count": null,
      "outputs": [
        {
          "output_type": "stream",
          "name": "stdout",
          "text": [
            "Collecting streamlit\n",
            "  Downloading streamlit-1.38.0-py2.py3-none-any.whl.metadata (8.5 kB)\n",
            "Requirement already satisfied: altair<6,>=4.0 in /usr/local/lib/python3.10/dist-packages (from streamlit) (4.2.2)\n",
            "Requirement already satisfied: blinker<2,>=1.0.0 in /usr/lib/python3/dist-packages (from streamlit) (1.4)\n",
            "Requirement already satisfied: cachetools<6,>=4.0 in /usr/local/lib/python3.10/dist-packages (from streamlit) (5.5.0)\n",
            "Requirement already satisfied: click<9,>=7.0 in /usr/local/lib/python3.10/dist-packages (from streamlit) (8.1.7)\n",
            "Requirement already satisfied: numpy<3,>=1.20 in /usr/local/lib/python3.10/dist-packages (from streamlit) (1.26.4)\n",
            "Requirement already satisfied: packaging<25,>=20 in /usr/local/lib/python3.10/dist-packages (from streamlit) (24.1)\n",
            "Requirement already satisfied: pandas<3,>=1.3.0 in /usr/local/lib/python3.10/dist-packages (from streamlit) (2.1.4)\n",
            "Requirement already satisfied: pillow<11,>=7.1.0 in /usr/local/lib/python3.10/dist-packages (from streamlit) (9.4.0)\n",
            "Requirement already satisfied: protobuf<6,>=3.20 in /usr/local/lib/python3.10/dist-packages (from streamlit) (3.20.3)\n",
            "Requirement already satisfied: pyarrow>=7.0 in /usr/local/lib/python3.10/dist-packages (from streamlit) (14.0.2)\n",
            "Requirement already satisfied: requests<3,>=2.27 in /usr/local/lib/python3.10/dist-packages (from streamlit) (2.32.3)\n",
            "Requirement already satisfied: rich<14,>=10.14.0 in /usr/local/lib/python3.10/dist-packages (from streamlit) (13.8.0)\n",
            "Collecting tenacity<9,>=8.1.0 (from streamlit)\n",
            "  Downloading tenacity-8.5.0-py3-none-any.whl.metadata (1.2 kB)\n",
            "Requirement already satisfied: toml<2,>=0.10.1 in /usr/local/lib/python3.10/dist-packages (from streamlit) (0.10.2)\n",
            "Requirement already satisfied: typing-extensions<5,>=4.3.0 in /usr/local/lib/python3.10/dist-packages (from streamlit) (4.12.2)\n",
            "Collecting gitpython!=3.1.19,<4,>=3.0.7 (from streamlit)\n",
            "  Downloading GitPython-3.1.43-py3-none-any.whl.metadata (13 kB)\n",
            "Collecting pydeck<1,>=0.8.0b4 (from streamlit)\n",
            "  Downloading pydeck-0.9.1-py2.py3-none-any.whl.metadata (4.1 kB)\n",
            "Requirement already satisfied: tornado<7,>=6.0.3 in /usr/local/lib/python3.10/dist-packages (from streamlit) (6.3.3)\n",
            "Collecting watchdog<5,>=2.1.5 (from streamlit)\n",
            "  Downloading watchdog-4.0.2-py3-none-manylinux2014_x86_64.whl.metadata (38 kB)\n",
            "Requirement already satisfied: entrypoints in /usr/local/lib/python3.10/dist-packages (from altair<6,>=4.0->streamlit) (0.4)\n",
            "Requirement already satisfied: jinja2 in /usr/local/lib/python3.10/dist-packages (from altair<6,>=4.0->streamlit) (3.1.4)\n",
            "Requirement already satisfied: jsonschema>=3.0 in /usr/local/lib/python3.10/dist-packages (from altair<6,>=4.0->streamlit) (4.23.0)\n",
            "Requirement already satisfied: toolz in /usr/local/lib/python3.10/dist-packages (from altair<6,>=4.0->streamlit) (0.12.1)\n",
            "Collecting gitdb<5,>=4.0.1 (from gitpython!=3.1.19,<4,>=3.0.7->streamlit)\n",
            "  Downloading gitdb-4.0.11-py3-none-any.whl.metadata (1.2 kB)\n",
            "Requirement already satisfied: python-dateutil>=2.8.2 in /usr/local/lib/python3.10/dist-packages (from pandas<3,>=1.3.0->streamlit) (2.8.2)\n",
            "Requirement already satisfied: pytz>=2020.1 in /usr/local/lib/python3.10/dist-packages (from pandas<3,>=1.3.0->streamlit) (2024.1)\n",
            "Requirement already satisfied: tzdata>=2022.1 in /usr/local/lib/python3.10/dist-packages (from pandas<3,>=1.3.0->streamlit) (2024.1)\n",
            "Requirement already satisfied: charset-normalizer<4,>=2 in /usr/local/lib/python3.10/dist-packages (from requests<3,>=2.27->streamlit) (3.3.2)\n",
            "Requirement already satisfied: idna<4,>=2.5 in /usr/local/lib/python3.10/dist-packages (from requests<3,>=2.27->streamlit) (3.8)\n",
            "Requirement already satisfied: urllib3<3,>=1.21.1 in /usr/local/lib/python3.10/dist-packages (from requests<3,>=2.27->streamlit) (2.0.7)\n",
            "Requirement already satisfied: certifi>=2017.4.17 in /usr/local/lib/python3.10/dist-packages (from requests<3,>=2.27->streamlit) (2024.8.30)\n",
            "Requirement already satisfied: markdown-it-py>=2.2.0 in /usr/local/lib/python3.10/dist-packages (from rich<14,>=10.14.0->streamlit) (3.0.0)\n",
            "Requirement already satisfied: pygments<3.0.0,>=2.13.0 in /usr/local/lib/python3.10/dist-packages (from rich<14,>=10.14.0->streamlit) (2.16.1)\n",
            "Collecting smmap<6,>=3.0.1 (from gitdb<5,>=4.0.1->gitpython!=3.1.19,<4,>=3.0.7->streamlit)\n",
            "  Downloading smmap-5.0.1-py3-none-any.whl.metadata (4.3 kB)\n",
            "Requirement already satisfied: MarkupSafe>=2.0 in /usr/local/lib/python3.10/dist-packages (from jinja2->altair<6,>=4.0->streamlit) (2.1.5)\n",
            "Requirement already satisfied: attrs>=22.2.0 in /usr/local/lib/python3.10/dist-packages (from jsonschema>=3.0->altair<6,>=4.0->streamlit) (24.2.0)\n",
            "Requirement already satisfied: jsonschema-specifications>=2023.03.6 in /usr/local/lib/python3.10/dist-packages (from jsonschema>=3.0->altair<6,>=4.0->streamlit) (2023.12.1)\n",
            "Requirement already satisfied: referencing>=0.28.4 in /usr/local/lib/python3.10/dist-packages (from jsonschema>=3.0->altair<6,>=4.0->streamlit) (0.35.1)\n",
            "Requirement already satisfied: rpds-py>=0.7.1 in /usr/local/lib/python3.10/dist-packages (from jsonschema>=3.0->altair<6,>=4.0->streamlit) (0.20.0)\n",
            "Requirement already satisfied: mdurl~=0.1 in /usr/local/lib/python3.10/dist-packages (from markdown-it-py>=2.2.0->rich<14,>=10.14.0->streamlit) (0.1.2)\n",
            "Requirement already satisfied: six>=1.5 in /usr/local/lib/python3.10/dist-packages (from python-dateutil>=2.8.2->pandas<3,>=1.3.0->streamlit) (1.16.0)\n",
            "Downloading streamlit-1.38.0-py2.py3-none-any.whl (8.7 MB)\n",
            "\u001b[2K   \u001b[90m━━━━━━━━━━━━━━━━━━━━━━━━━━━━━━━━━━━━━━━━\u001b[0m \u001b[32m8.7/8.7 MB\u001b[0m \u001b[31m55.2 MB/s\u001b[0m eta \u001b[36m0:00:00\u001b[0m\n",
            "\u001b[?25hDownloading GitPython-3.1.43-py3-none-any.whl (207 kB)\n",
            "\u001b[2K   \u001b[90m━━━━━━━━━━━━━━━━━━━━━━━━━━━━━━━━━━━━━━━━\u001b[0m \u001b[32m207.3/207.3 kB\u001b[0m \u001b[31m11.9 MB/s\u001b[0m eta \u001b[36m0:00:00\u001b[0m\n",
            "\u001b[?25hDownloading pydeck-0.9.1-py2.py3-none-any.whl (6.9 MB)\n",
            "\u001b[2K   \u001b[90m━━━━━━━━━━━━━━━━━━━━━━━━━━━━━━━━━━━━━━━━\u001b[0m \u001b[32m6.9/6.9 MB\u001b[0m \u001b[31m73.7 MB/s\u001b[0m eta \u001b[36m0:00:00\u001b[0m\n",
            "\u001b[?25hDownloading tenacity-8.5.0-py3-none-any.whl (28 kB)\n",
            "Downloading watchdog-4.0.2-py3-none-manylinux2014_x86_64.whl (82 kB)\n",
            "\u001b[2K   \u001b[90m━━━━━━━━━━━━━━━━━━━━━━━━━━━━━━━━━━━━━━━━\u001b[0m \u001b[32m82.9/82.9 kB\u001b[0m \u001b[31m4.0 MB/s\u001b[0m eta \u001b[36m0:00:00\u001b[0m\n",
            "\u001b[?25hDownloading gitdb-4.0.11-py3-none-any.whl (62 kB)\n",
            "\u001b[2K   \u001b[90m━━━━━━━━━━━━━━━━━━━━━━━━━━━━━━━━━━━━━━━━\u001b[0m \u001b[32m62.7/62.7 kB\u001b[0m \u001b[31m3.6 MB/s\u001b[0m eta \u001b[36m0:00:00\u001b[0m\n",
            "\u001b[?25hDownloading smmap-5.0.1-py3-none-any.whl (24 kB)\n",
            "Installing collected packages: watchdog, tenacity, smmap, pydeck, gitdb, gitpython, streamlit\n",
            "  Attempting uninstall: tenacity\n",
            "    Found existing installation: tenacity 9.0.0\n",
            "    Uninstalling tenacity-9.0.0:\n",
            "      Successfully uninstalled tenacity-9.0.0\n",
            "Successfully installed gitdb-4.0.11 gitpython-3.1.43 pydeck-0.9.1 smmap-5.0.1 streamlit-1.38.0 tenacity-8.5.0 watchdog-4.0.2\n"
          ]
        }
      ]
    },
    {
      "cell_type": "code",
      "source": [
        "import joblib\n",
        "\n",
        "# Guardar el modelo entrenado\n",
        "joblib.dump(model, 'audio_classifier_model.pkl')\n",
        "joblib.dump(scaler, 'scaler.pkl')"
      ],
      "metadata": {
        "colab": {
          "base_uri": "https://localhost:8080/"
        },
        "id": "c2DRt648ySVV",
        "outputId": "a5501e41-4b99-4250-f5ce-518999fc8134"
      },
      "execution_count": null,
      "outputs": [
        {
          "output_type": "execute_result",
          "data": {
            "text/plain": [
              "['scaler.pkl']"
            ]
          },
          "metadata": {},
          "execution_count": 31
        }
      ]
    },
    {
      "cell_type": "code",
      "source": [
        "import streamlit as st\n",
        "import numpy as np\n",
        "import librosa\n",
        "import joblib\n",
        "from sklearn.preprocessing import StandardScaler\n",
        "\n",
        "code = \"\"\"\n",
        "import streamlit as st\n",
        "import numpy as np\n",
        "import librosa\n",
        "import joblib\n",
        "from sklearn.preprocessing import StandardScaler\n",
        "\n",
        "# Cargar el modelo y el escalador\n",
        "model = joblib.load('audio_classifier_model.pkl')\n",
        "scaler = joblib.load('scaler.pkl')\n",
        "\n",
        "# Título de la app\n",
        "st.title('Clasificación de Audio: Sobrio vs Ebrio')\n",
        "\n",
        "# Subir archivo de audio\n",
        "audio_file = st.file_uploader(\"Sube un archivo de audio\", type=['wav', 'm4a'])\n",
        "\n",
        "if audio_file is not None:\n",
        "    # Procesar el archivo de audio\n",
        "    st.audio(audio_file, format='audio/wav')\n",
        "    audio_data, sample_rate = librosa.load(audio_file, sr=None)\n",
        "    mfccs = librosa.feature.mfcc(y=audio_data, sr=sample_rate, n_mfcc=13)\n",
        "    mfccs_mean = np.mean(mfccs.T, axis=0)\n",
        "\n",
        "    # Normalizar las características\n",
        "    mfccs_scaled = scaler.transform([mfccs_mean])\n",
        "\n",
        "    # Realizar la predicción\n",
        "    prediction = model.predict(mfccs_scaled)\n",
        "    prob = model.predict_proba(mfccs_scaled)[0]\n",
        "\n",
        "    # Mostrar el resultado\n",
        "    if prediction[0] == 0:\n",
        "        st.write(f\"**Predicción: Sobrio** (Probabilidad: {prob[0]*100:.2f}%)\")\n",
        "    else:\n",
        "        st.write(f\"**Predicción: Ebrio** (Probabilidad: {prob[1]*100:.2f}%)\")\n",
        "\"\"\"\n",
        "\n",
        "# Guardar el código en un archivo llamado 'app.py' en Google Drive\n",
        "with open('/content/drive/My Drive/ITD/Int Artificial Avanzada/Tareas/Tarea equipo/app.py', 'w') as f:\n",
        "    f.write(code)"
      ],
      "metadata": {
        "id": "CyEJEdHqzb6J"
      },
      "execution_count": null,
      "outputs": []
    },
    {
      "cell_type": "code",
      "source": [
        "!streamlit run app.py"
      ],
      "metadata": {
        "colab": {
          "base_uri": "https://localhost:8080/"
        },
        "id": "K4w9YROLz6TP",
        "outputId": "e4b2ec8b-178e-4dfe-bab8-f24a218c99b5"
      },
      "execution_count": null,
      "outputs": [
        {
          "output_type": "stream",
          "name": "stdout",
          "text": [
            "Usage: streamlit run [OPTIONS] TARGET [ARGS]...\n",
            "Try 'streamlit run --help' for help.\n",
            "\n",
            "Error: Invalid value: File does not exist: app.py\n"
          ]
        }
      ]
    }
  ]
}